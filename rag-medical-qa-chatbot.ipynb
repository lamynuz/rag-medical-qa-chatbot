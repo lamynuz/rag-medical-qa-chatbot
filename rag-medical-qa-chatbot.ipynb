{
 "cells": [
  {
   "cell_type": "markdown",
   "id": "789458a2",
   "metadata": {},
   "source": [
    "# Load Documents"
   ]
  },
  {
   "cell_type": "code",
   "execution_count": 155,
   "id": "dee61eed",
   "metadata": {},
   "outputs": [
    {
     "data": {
      "text/plain": [
       "True"
      ]
     },
     "execution_count": 155,
     "metadata": {},
     "output_type": "execute_result"
    }
   ],
   "source": [
    "from dotenv import load_dotenv\n",
    "load_dotenv()"
   ]
  },
  {
   "cell_type": "code",
   "execution_count": null,
   "id": "6e1fc8cc",
   "metadata": {},
   "outputs": [],
   "source": [
    "import os\n",
    "os.chdir(\"../\")"
   ]
  },
  {
   "cell_type": "code",
   "execution_count": 26,
   "id": "bf18acd4",
   "metadata": {},
   "outputs": [],
   "source": [
    "from langchain.document_loaders import PyPDFLoader, DirectoryLoader\n",
    "from langchain.text_splitter import RecursiveCharacterTextSplitter"
   ]
  },
  {
   "cell_type": "code",
   "execution_count": 27,
   "id": "e0ead6a6",
   "metadata": {},
   "outputs": [],
   "source": [
    "def load_pdf_file(data):\n",
    "    loader = DirectoryLoader(data, glob=\"*.pdf\", loader_cls=PyPDFLoader)\n",
    "    documents = loader.load()\n",
    "    return documents"
   ]
  },
  {
   "cell_type": "code",
   "execution_count": 28,
   "id": "77594e6d",
   "metadata": {},
   "outputs": [
    {
     "data": {
      "text/plain": [
       "637"
      ]
     },
     "execution_count": 28,
     "metadata": {},
     "output_type": "execute_result"
    }
   ],
   "source": [
    "extracted_data = load_pdf_file(data=\"data/\")\n",
    "len(extracted_data)"
   ]
  },
  {
   "cell_type": "markdown",
   "id": "f647b17a",
   "metadata": {},
   "source": [
    "# Split Chunks"
   ]
  },
  {
   "cell_type": "code",
   "execution_count": 29,
   "id": "8ca83c21",
   "metadata": {},
   "outputs": [],
   "source": [
    "def text_split(extracted_data):\n",
    "    text_splitter=RecursiveCharacterTextSplitter(chunk_size=500, chunk_overlap=20)\n",
    "    text_chunks=text_splitter.split_documents(extracted_data)\n",
    "    return text_chunks"
   ]
  },
  {
   "cell_type": "code",
   "execution_count": 30,
   "id": "ee13a138",
   "metadata": {},
   "outputs": [
    {
     "data": {
      "text/plain": [
       "5859"
      ]
     },
     "execution_count": 30,
     "metadata": {},
     "output_type": "execute_result"
    }
   ],
   "source": [
    "text_chunks=text_split(extracted_data)\n",
    "len(text_chunks)"
   ]
  },
  {
   "cell_type": "markdown",
   "id": "e69c56fb",
   "metadata": {},
   "source": [
    "# Embeddings"
   ]
  },
  {
   "cell_type": "code",
   "execution_count": null,
   "id": "13c984c3",
   "metadata": {},
   "outputs": [],
   "source": [
    "# LangChain LlamaCppEmbeddings has issues loading gguf embedding models\n",
    "# from langchain_community.embeddings import LlamaCppEmbeddings\n",
    "# embeddings = LlamaCppEmbeddings(\n",
    "#     model_path=\"../models/nomic-embed-text-v1.5.Q4_K_M.gguf\",\n",
    "#     n_ctx=2048,        # llama.cpp default for this model; increase only with rope scaling\n",
    "#     n_threads=4       # set to CPU cores\n",
    "#     n_batch=512        # batch size in tokens, safe default\n",
    "# )"
   ]
  },
  {
   "cell_type": "code",
   "execution_count": 72,
   "id": "9e05770b",
   "metadata": {},
   "outputs": [],
   "source": [
    "from langchain_community.embeddings import HuggingFaceEmbeddings\n",
    "embeddings = HuggingFaceEmbeddings(\n",
    "    model_name=\"sentence-transformers/all-MiniLM-L6-v2\",\n",
    "    model_kwargs={\"device\": \"cpu\", \"trust_remote_code\": \"True\"} # or \"cuda\" if you have a GPU\n",
    ")"
   ]
  },
  {
   "cell_type": "markdown",
   "id": "416a9893",
   "metadata": {},
   "source": [
    "## Store embeddings into FAISS local database"
   ]
  },
  {
   "cell_type": "code",
   "execution_count": 73,
   "id": "155b8001",
   "metadata": {},
   "outputs": [],
   "source": [
    "from langchain_community.vectorstores import FAISS\n",
    "db = FAISS.from_documents(text_chunks, embeddings)\n",
    "db.save_local(\"vector_store\")"
   ]
  },
  {
   "cell_type": "code",
   "execution_count": 74,
   "id": "ff22af3d",
   "metadata": {},
   "outputs": [
    {
     "name": "stdout",
     "output_type": "stream",
     "text": [
      "384\n"
     ]
    }
   ],
   "source": [
    "# Test embeddings\n",
    "query_result = embeddings.embed_query(\"Hello World\")\n",
    "print(len(query_result))"
   ]
  },
  {
   "cell_type": "code",
   "execution_count": 75,
   "id": "b5af4f2f",
   "metadata": {},
   "outputs": [],
   "source": [
    "retriever = db.as_retriever(search_type=\"similarity\", search_kwargs={\"k\":3})"
   ]
  },
  {
   "cell_type": "code",
   "execution_count": 76,
   "id": "aadd0f08",
   "metadata": {},
   "outputs": [
    {
     "data": {
      "text/plain": [
       "[Document(id='660bc947-7e9a-4a53-8250-3b4c8d1e466f', metadata={'producer': 'PDFlib+PDI 5.0.0 (SunOS)', 'creator': 'PyPDF', 'creationdate': '2004-12-18T17:00:02-05:00', 'moddate': '2004-12-18T16:15:31-06:00', 'source': 'data/Gale Encyclopedia of Medicine Vol. 1 (A-B).pdf', 'total_pages': 637, 'page': 193, 'page_label': '194'}, page_content='Anemias\\nDefinition\\nAnemia is a condition characterized by abnormally\\nlow levels of healthy red blood cells or hemoglobin (the\\ncomponent of red blood cells that delivers oxygen to tis-\\nsues throughout the body).\\nDescription\\nThe tissues of the human body need a regular supply\\nof oxygen to stay healthy. Red blood cells, which contain\\nhemoglobin that allows them to deliver oxygen throughout\\nthe body, live for only about 120 days. When they die, the'),\n",
       " Document(id='147f4136-bc24-48f7-b6af-db816c0eef33', metadata={'producer': 'PDFlib+PDI 5.0.0 (SunOS)', 'creator': 'PyPDF', 'creationdate': '2004-12-18T17:00:02-05:00', 'moddate': '2004-12-18T16:15:31-06:00', 'source': 'data/Gale Encyclopedia of Medicine Vol. 1 (A-B).pdf', 'total_pages': 637, 'page': 195, 'page_label': '196'}, page_content='Anemias\\nGEM - 0001 to 0432 - A  10/22/03 1:42 PM  Page 182'),\n",
       " Document(id='820a676a-ea27-4366-a630-66cbeccd834e', metadata={'producer': 'PDFlib+PDI 5.0.0 (SunOS)', 'creator': 'PyPDF', 'creationdate': '2004-12-18T17:00:02-05:00', 'moddate': '2004-12-18T16:15:31-06:00', 'source': 'data/Gale Encyclopedia of Medicine Vol. 1 (A-B).pdf', 'total_pages': 637, 'page': 193, 'page_label': '194'}, page_content='iron they contain is returned to the bone marrow and used\\nto create new red blood cells. Anemia develops when\\nheavy bleeding causes significant iron loss or when some-\\nthing happens to slow down the production of red blood\\ncells or to increase the rate at which they are destroyed.\\nTypes of anemia\\nAnemia can be mild, moderate, or severe enough to\\nlead to life-threatening complications. More than 400\\ndifferent types of anemia have been identified. Many of\\nthem are rare.')]"
      ]
     },
     "execution_count": 76,
     "metadata": {},
     "output_type": "execute_result"
    }
   ],
   "source": [
    "retriever.invoke(\"What is anemia?\")"
   ]
  },
  {
   "cell_type": "markdown",
   "id": "7aa50888",
   "metadata": {},
   "source": [
    "# LLM"
   ]
  },
  {
   "cell_type": "code",
   "execution_count": null,
   "id": "9233cbf6",
   "metadata": {},
   "outputs": [],
   "source": [
    "# Using LangChain Llama-CPP with local models\n",
    "from langchain_community.llms import LlamaCpp\n",
    "llm = LlamaCpp(\n",
    "        model_path=\"../models/Llama-3.2-3B-Instruct-Q2_K.gguf\",\n",
    "        temperature=0.3,\n",
    "        verbose=False,\n",
    "        n_batch=512,\n",
    "        n_ctx=2048,\n",
    ")"
   ]
  },
  {
   "cell_type": "code",
   "execution_count": null,
   "id": "61039a28",
   "metadata": {},
   "outputs": [],
   "source": [
    "# Using LangChain OpenAI\n",
    "# from langchain_openai import OpenAI\n",
    "# llm = OpenAI(model=\"gpt-4o-mini\", temperature=0.3)"
   ]
  },
  {
   "cell_type": "code",
   "execution_count": null,
   "id": "b4d836f7",
   "metadata": {},
   "outputs": [
    {
     "name": "stderr",
     "output_type": "stream",
     "text": [
      "WARNING: All log messages before absl::InitializeLog() is called are written to STDERR\n",
      "E0000 00:00:1759262720.393554 11827410 alts_credentials.cc:93] ALTS creds ignored. Not running on GCP and untrusted ALTS is not enabled.\n"
     ]
    }
   ],
   "source": [
    "# Using LangChain Gemini\n",
    "# from langchain_google_genai import ChatGoogleGenerativeAI\n",
    "# llm = ChatGoogleGenerativeAI(\n",
    "#     model=\"gemini-2.5-flash\",\n",
    "#     temperature=0.3\n",
    "# )"
   ]
  },
  {
   "cell_type": "code",
   "execution_count": null,
   "id": "65639dea",
   "metadata": {},
   "outputs": [],
   "source": [
    "from langchain.chains import create_retrieval_chain\n",
    "from langchain.chains.combine_documents import create_stuff_documents_chain\n",
    "from langchain_core.prompts import ChatPromptTemplate\n",
    "\n",
    "system_prompt = (\n",
    "    \"Answer the question based only on the following context:\"\n",
    "    \"{context}\"\n",
    ")\n",
    "\n",
    "prompt = ChatPromptTemplate.from_messages(\n",
    "    [\n",
    "        (\"system\", system_prompt),\n",
    "        (\"human\", \"{input}\"),\n",
    "    ]\n",
    ")"
   ]
  },
  {
   "cell_type": "code",
   "execution_count": 136,
   "id": "ba98e7a5",
   "metadata": {},
   "outputs": [],
   "source": [
    "prompt_template = \"\"\"\n",
    "    <|begin_of_text|><|start_header_id|>system<|end_header_id|>\n",
    "    You are an assistant for question-answering tasks. Use the following pieces of retrieved context to answer the question. If you don't know the answer, just say that you don't know. Use three sentences maximum and keep the answer concise.\n",
    "    <|eot_id|><|start_header_id|>user<|end_header_id|>\n",
    "    Question: {input}\n",
    "    Context: {context}\n",
    "    Answer: <|eot_id|><|start_header_id|>assistant<|end_header_id|>\n",
    "    \"\"\"\n",
    "prompt = ChatPromptTemplate.from_template(prompt_template)"
   ]
  },
  {
   "cell_type": "code",
   "execution_count": 157,
   "id": "4763b051",
   "metadata": {},
   "outputs": [],
   "source": [
    "question_answer_chain = create_stuff_documents_chain(llm, prompt)\n",
    "rag_chain = create_retrieval_chain(retriever, question_answer_chain)"
   ]
  },
  {
   "cell_type": "code",
   "execution_count": 143,
   "id": "849418a5",
   "metadata": {},
   "outputs": [
    {
     "name": "stdout",
     "output_type": "stream",
     "text": [
      " Here is the answer to your question about anemia.\n",
      "\n",
      "Anemia is a medical condition characterized by abnormally low levels of healthy red blood cells or hemoglobin."
     ]
    }
   ],
   "source": [
    "full_response = \"\"\n",
    "for chunk in rag_chain.stream({\"input\": \"What is anemia?\"}):\n",
    "    # The 'answer' key contains the generated text from the LLM\n",
    "    if \"answer\" in chunk:\n",
    "        print(chunk[\"answer\"], end=\"\", flush=True)\n",
    "        full_response += chunk[\"answer\"]"
   ]
  },
  {
   "cell_type": "code",
   "execution_count": null,
   "id": "e57fd88d",
   "metadata": {},
   "outputs": [
    {
     "name": "stdout",
     "output_type": "stream",
     "text": [
      "I don't know what XYZ is, as the provided context does not contain any information about it.\n"
     ]
    }
   ],
   "source": [
    "response = rag_chain.invoke({\"input\": \"What is acne?\"})\n",
    "print(response[\"answer\"])"
   ]
  }
 ],
 "metadata": {
  "kernelspec": {
   "display_name": "29-Medical-Chatbot",
   "language": "python",
   "name": "python3"
  },
  "language_info": {
   "codemirror_mode": {
    "name": "ipython",
    "version": 3
   },
   "file_extension": ".py",
   "mimetype": "text/x-python",
   "name": "python",
   "nbconvert_exporter": "python",
   "pygments_lexer": "ipython3",
   "version": "3.10.15"
  }
 },
 "nbformat": 4,
 "nbformat_minor": 5
}
